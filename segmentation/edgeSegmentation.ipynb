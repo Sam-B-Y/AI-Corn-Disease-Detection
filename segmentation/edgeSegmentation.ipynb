{
 "cells": [
  {
   "cell_type": "code",
   "execution_count": null,
   "metadata": {},
   "outputs": [],
   "source": [
    "import cv2\n",
    "import numpy as np\n",
    "import matplotlib.pyplot as plt\n",
    "\n",
    "image = '../data/Blight/Corn_Blight (222).JPG'\n",
    "cv2image = cv2.imread(image)\n",
    "\n",
    "def show_image(image):\n",
    "    if image.ndim > 2:\n",
    "        image = cv2.cvtColor(image, cv2.COLOR_BGR2RGB)\n",
    "    \n",
    "    plt.figure(figsize=(10, 10))\n",
    "    plt.imshow(image)\n",
    "\n",
    "show_image(cv2image)"
   ]
  },
  {
   "cell_type": "code",
   "execution_count": null,
   "metadata": {},
   "outputs": [],
   "source": [
    "def edge_detect(image):\n",
    "    sobelX = cv2.Sobel(image, cv2.CV_16S, 1, 0)\n",
    "    sobelY = cv2.Sobel(image, cv2.CV_16S, 0, 1)\n",
    "    sobel = np.hypot(sobelX, sobelY)\n",
    "\n",
    "    sobel[sobel > 255] = 255\n",
    "\n",
    "    return sobel\n",
    "\n",
    "def find_edge(image):\n",
    "    blurred = cv2.GaussianBlur(image, (5, 5), 0)\n",
    "    edge_img = np.max( np.array([edge_detect(blurred[:,:,0]),edge_detect(blurred[:,:,1]),edge_detect(blurred[:,:,2])]), axis=0)\n",
    "\n",
    "    mean = np.mean(edge_img) * 1.05\n",
    "    edge_img[edge_img < mean] = 0\n",
    "    return edge_img\n",
    "\n",
    "# def find_edge(image):\n",
    "#     blurred = cv2.GaussianBlur(image, (5, 5), 0)\n",
    "#     edges = cv2.Canny(blurred, 50, 150)  # Using Canny edge detector\n",
    "#     return edges\n",
    "\n",
    "edge_img = find_edge(cv2image)\n",
    "show_image(edge_img)"
   ]
  },
  {
   "cell_type": "code",
   "execution_count": null,
   "metadata": {},
   "outputs": [],
   "source": [
    "# def find_contours(image, edge_img):\n",
    "#     contours, _ = cv2.findContours(edge_img, cv2.RETR_EXTERNAL, cv2.CHAIN_APPROX_SIMPLE)\n",
    "#     return contours\n",
    "\n",
    "def find_contours(image, edge_img):\n",
    "    contours, hierarchy = cv2.findContours(edge_img, cv2.RETR_TREE, cv2.CHAIN_APPROX_SIMPLE)\n",
    "\n",
    "    level1 = []\n",
    "    for i, tupl in enumerate(hierarchy[0]):\n",
    "        if tupl[3] == -1:\n",
    "            tupl = np.insert(tupl, 0, [i])\n",
    "            level1.append(tupl)\n",
    "    significant = []\n",
    "    too_small = edge_img.size * 5 / 100\n",
    "    for tupl in level1:\n",
    "        contour = contours[tupl[0]]\n",
    "        area = cv2.contourArea(contour)\n",
    "        if area > too_small:\n",
    "            significant.append([contour, area])\n",
    "            # cv2.drawContours(image, [contour], 0, (0, 255, 0), 2, cv2.LINE_AA, maxLevel=1)\n",
    "    \n",
    "    significant = sorted(significant, key=lambda x: x[1])\n",
    "    return [x[0] for x in significant]\n",
    "\n",
    "edge_img_8u = np.asarray(edge_img, np.uint8)\n",
    "contours = find_contours(cv2image, edge_img_8u)\n",
    "\n",
    "contour_image = cv2image.copy()\n",
    "cv2.drawContours(contour_image, contours, -1, (0, 255, 0), 2)\n",
    "\n",
    "show_image(contour_image)"
   ]
  },
  {
   "cell_type": "code",
   "execution_count": null,
   "metadata": {},
   "outputs": [],
   "source": [
    "# convert contours to a mask\n",
    "def contours_to_mask(image, contours):\n",
    "    mask = np.zeros(image.shape[:2], np.uint8)\n",
    "    cv2.drawContours(mask, contours, -1, (255), -1)\n",
    "    return mask\n",
    "\n",
    "mask = contours_to_mask(cv2image.copy(), contours)\n",
    "show_image(mask)"
   ]
  },
  {
   "cell_type": "code",
   "execution_count": null,
   "metadata": {},
   "outputs": [],
   "source": [
    "# apply mask to original image\n",
    "def apply_mask(image, mask):\n",
    "    masked = cv2.bitwise_and(image, image, mask=mask)\n",
    "    return masked\n",
    "\n",
    "masked = apply_mask(cv2image, mask)\n",
    "show_image(masked)"
   ]
  },
  {
   "cell_type": "code",
   "execution_count": null,
   "metadata": {},
   "outputs": [],
   "source": [
    "masked_image_path = \"segdata/\" + \"/\".join(image.split(\"/\")[1:])\n",
    "cv2.imwrite(masked_image_path, masked)"
   ]
  }
 ],
 "metadata": {
  "kernelspec": {
   "display_name": "Python 3",
   "language": "python",
   "name": "python3"
  },
  "language_info": {
   "codemirror_mode": {
    "name": "ipython",
    "version": 3
   },
   "file_extension": ".py",
   "mimetype": "text/x-python",
   "name": "python",
   "nbconvert_exporter": "python",
   "pygments_lexer": "ipython3",
   "version": "3.11.8"
  }
 },
 "nbformat": 4,
 "nbformat_minor": 2
}
