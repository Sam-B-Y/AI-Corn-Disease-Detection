{
 "cells": [
  {
   "cell_type": "code",
   "execution_count": null,
   "metadata": {},
   "outputs": [],
   "source": [
    "%pip install git+https://github.com/facebookresearch/segment-anything.git"
   ]
  },
  {
   "cell_type": "code",
   "execution_count": null,
   "metadata": {},
   "outputs": [],
   "source": [
    "import cv2\n",
    "import numpy as np\n",
    "import matplotlib.pyplot as plt\n",
    "from segment_anything import sam_model_registry, SamAutomaticMaskGenerator, SamPredictor\n",
    "from google.colab import drive\n",
    "\n",
    "drive.mount('/content/drive')"
   ]
  },
  {
   "cell_type": "code",
   "execution_count": null,
   "metadata": {},
   "outputs": [],
   "source": [
    "def show_image(image):\n",
    "    if image.ndim > 2:\n",
    "        image = cv2.cvtColor(image, cv2.COLOR_BGR2RGB)\n",
    "    \n",
    "    plt.figure(figsize=(10, 10))\n",
    "    plt.imshow(image)\n",
    "\n",
    "sam_checkpoint = \"/content/drive/MyDrive/sam_vit_h_4b8939.pth\"\n",
    "model_type = \"vit_h\"\n",
    "\n",
    "sam = sam_model_registry[model_type](checkpoint=sam_checkpoint)\n",
    "sam.to(device=\"cuda\")\n",
    "predictor = SamPredictor(sam)\n",
    "\n",
    "input_box = np.array([0, 0, 256, 256])\n",
    "\n",
    "def show_mask(mask, ax, random_color=False):\n",
    "    if random_color:\n",
    "        color = np.concatenate([np.random.random(3), np.array([0.6])], axis=0)\n",
    "    else:\n",
    "        color = np.array([30/255, 144/255, 255/255, 0.6])\n",
    "    h, w = mask.shape[-2:]\n",
    "    mask_image = mask.reshape(h, w, 1) * color.reshape(1, 1, -1)\n",
    "    ax.imshow(mask_image)\n",
    "    \n",
    "def show_points(coords, labels, ax, marker_size=375):\n",
    "    pos_points = coords[labels==1]\n",
    "    neg_points = coords[labels==0]\n",
    "    ax.scatter(pos_points[:, 0], pos_points[:, 1], color='green', marker='*', s=marker_size, edgecolor='white', linewidth=1.25)\n",
    "    ax.scatter(neg_points[:, 0], neg_points[:, 1], color='red', marker='*', s=marker_size, edgecolor='white', linewidth=1.25)   \n",
    "    \n",
    "def show_box(box, ax):\n",
    "    x0, y0 = box[0], box[1]\n",
    "    w, h = box[2] - box[0], box[3] - box[1]\n",
    "    ax.add_patch(plt.Rectangle((x0, y0), w, h, edgecolor='green', facecolor=(0,0,0,0), lw=2)) "
   ]
  },
  {
   "cell_type": "code",
   "execution_count": null,
   "metadata": {},
   "outputs": [],
   "source": [
    "input_point = np.array([[128, 128]])\n",
    "input_label = np.array([1])\n",
    "# for i in range(224, 1095):\n",
    "for i in range(49, 574):\n",
    "    # image = cv2.imread('/content/drive/MyDrive/data/Blight/Corn_Blight (' + str(i) + ').JPG')\n",
    "    image = cv2.imread('/content/drive/MyDrive/data/Gray_Leaf_Spot/Corn_Gray_Spot (' + str(i) + ').JPG')\n",
    "    print(i)\n",
    "    if(image is None):\n",
    "        # image = cv2.imread('/content/drive/MyDrive/data/Blight/Corn_Blight (' + str(i) + ').jpg')\n",
    "        image = cv2.imread('/content/drive/MyDrive/data/Gray_Leaf_Spot/Corn_Gray_Spot (' + str(i) + ').jpg')\n",
    "        if(image is None):\n",
    "            continue\n",
    "    predictor.set_image(image)\n",
    "\n",
    "    masks, _, _ = predictor.predict(\n",
    "        point_coords=input_point,\n",
    "        point_labels=input_label,\n",
    "        box=input_box,\n",
    "        multimask_output=False,\n",
    "    )\n",
    "\n",
    "    mask = masks[0]\n",
    "    mask = (mask > 0.5).astype(np.uint8)\n",
    "    masked_image = cv2.bitwise_and(image, image, mask=mask)\n",
    "\n",
    "    # cv2.imwrite('/content/drive/MyDrive/seg_data/Blight/Corn_Blight (' + str(i) + ').jpg', masked_image)\n",
    "    cv2.imwrite('/content/drive/MyDrive/seg_data/Gray_Leaf_Spot/Corn_Gray_Spot (' + str(i) + ').jpg', masked_image)"
   ]
  }
 ],
 "metadata": {
  "kernelspec": {
   "display_name": "Python 3",
   "language": "python",
   "name": "python3"
  },
  "language_info": {
   "codemirror_mode": {
    "name": "ipython",
    "version": 3
   },
   "file_extension": ".py",
   "mimetype": "text/x-python",
   "name": "python",
   "nbconvert_exporter": "python",
   "pygments_lexer": "ipython3",
   "version": "3.11.8"
  }
 },
 "nbformat": 4,
 "nbformat_minor": 2
}
