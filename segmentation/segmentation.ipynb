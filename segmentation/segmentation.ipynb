{
 "cells": [
  {
   "cell_type": "code",
   "execution_count": null,
   "metadata": {},
   "outputs": [],
   "source": [
    "import cv2\n",
    "import numpy as np\n",
    "import matplotlib.pyplot as plt\n",
    "\n",
    "image = '../data/Blight/Corn_Blight (223).JPG'\n",
    "cv2image = cv2.imread(image)\n",
    "\n",
    "def show_image(image):\n",
    "    if image.ndim > 2:\n",
    "        image = cv2.cvtColor(image, cv2.COLOR_BGR2RGB)\n",
    "    \n",
    "    plt.figure(figsize=(10, 10))\n",
    "    plt.imshow(image)\n",
    "\n",
    "show_image(cv2image)"
   ]
  },
  {
   "cell_type": "code",
   "execution_count": null,
   "metadata": {},
   "outputs": [],
   "source": [
    "hsv = cv2.cvtColor(cv2image, cv2.COLOR_BGR2HSV)\n",
    "mask_green = cv2.inRange(hsv, (36,0,0), (86,255,255)) # green\n",
    "mask_brown = cv2.inRange(hsv, (8, 60, 20), (30, 255, 200)) # brown\n",
    "mask_yellow = cv2.inRange(hsv, (14, 20, 55), (40, 255, 255)) # yellow\n",
    "\n",
    "mask = cv2.bitwise_or(mask_green, mask_brown)\n",
    "mask = cv2.bitwise_or(mask, mask_yellow)\n",
    "\n",
    "show_image(mask)"
   ]
  },
  {
   "cell_type": "code",
   "execution_count": null,
   "metadata": {},
   "outputs": [],
   "source": [
    "mask_copy = mask.copy()\n",
    "\n",
    "mask_copy = cv2.copyMakeBorder(mask_copy, 20, 20, 20, 20, cv2.BORDER_CONSTANT, value=0)\n",
    "contours, _ = cv2.findContours(mask_copy, cv2.RETR_EXTERNAL, cv2.CHAIN_APPROX_SIMPLE)\n",
    "cv2.drawContours(mask_copy, contours, -1, (0, 255, 0), 2)\n",
    "show_image(mask_copy)\n"
   ]
  },
  {
   "cell_type": "code",
   "execution_count": null,
   "metadata": {},
   "outputs": [],
   "source": [
    "# add 20 pixels of padding to the mask\n",
    "mask = cv2.copyMakeBorder(mask, 20, 20, 20, 20, cv2.BORDER_CONSTANT, value=0)\n",
    "contours, _ = cv2.findContours(mask, cv2.RETR_EXTERNAL, cv2.CHAIN_APPROX_SIMPLE)\n",
    "contours = [c - [20, 20] for c in contours]\n",
    "mask = mask[20:-20, 20:-20]\n",
    "\n",
    "copy = cv2image.copy()\n",
    "contours = [c for c in contours if cv2.contourArea(c) > 100]\n",
    "cv2.drawContours(copy, contours, -1, (0, 255, 0), 2)\n",
    "show_image(copy)\n",
    "\n",
    "# apply contour mask\n",
    "mask = np.zeros_like(mask)\n",
    "cv2.drawContours(mask, contours, -1, 255, -1)\n",
    "show_image(mask)"
   ]
  },
  {
   "cell_type": "code",
   "execution_count": null,
   "metadata": {},
   "outputs": [],
   "source": [
    "result = cv2.bitwise_and(cv2image, cv2image, mask=mask)\n",
    "show_image(result)"
   ]
  },
  {
   "cell_type": "code",
   "execution_count": null,
   "metadata": {},
   "outputs": [],
   "source": [
    "masked_image_path = \"../segdata/\" + \"/\".join(image.split(\"/\")[2:])\n",
    "cv2.imwrite(masked_image_path, result)"
   ]
  },
  {
   "cell_type": "code",
   "execution_count": null,
   "metadata": {},
   "outputs": [],
   "source": [
    "# for i in range(49, 561):\n",
    "for i in range(1, 600):\n",
    "# for i in range(224, 1095):\n",
    "    image = f'../diffBg/Gray_Leaf_Spot/Corn_Gray_Spot ({i}).JPG'\n",
    "    # image = f'../diffBg/Common_Rust/Corn_Common_Rust ({i}).JPG'\n",
    "    # image = f'../diffBg/Blight/Corn_Blight ({i}).JPG'\n",
    "    # image = f'../diffBg/Healthy/healthy{i}.png'\n",
    "    print(image)\n",
    "    cv2image = cv2.imread(image)\n",
    "    if cv2image is None:\n",
    "        image = f'../diffBg/Gray_Leaf_Spot/Corn_Gray_Spot ({i}).jpg'\n",
    "        # image = f'../diffBg/Common_Rust/Corn_Common_Rust ({i}).jpg' \n",
    "        # image = f'../diffBg/Blight/Corn_Blight ({i}).jpg'\n",
    "        # image = f'../diffBg/Healthy/healthy{i}.jpg'\n",
    "        cv2image = cv2.imread(image) \n",
    "        if cv2image is None:\n",
    "            continue\n",
    "    hsv = cv2.cvtColor(cv2image, cv2.COLOR_BGR2HSV)\n",
    "    mask_green = cv2.inRange(hsv, (36,0,0), (86,255,255)) # green\n",
    "    mask_brown = cv2.inRange(hsv, (8, 60, 20), (30, 255, 200)) # brown\n",
    "    mask_yellow = cv2.inRange(hsv, (14, 20, 64), (40, 255, 255)) # yellow\n",
    "\n",
    "    mask = cv2.bitwise_or(mask_green, mask_brown)\n",
    "    mask = cv2.bitwise_or(mask, mask_yellow)\n",
    "\n",
    "    mask = cv2.copyMakeBorder(mask, 20, 20, 20, 20, cv2.BORDER_CONSTANT, value=0)\n",
    "    contours, _ = cv2.findContours(mask, cv2.RETR_EXTERNAL, cv2.CHAIN_APPROX_SIMPLE)\n",
    "    contours = [c - [20, 20] for c in contours]\n",
    "    mask = mask[20:-20, 20:-20]\n",
    "\n",
    "    copy = cv2image.copy()\n",
    "    contours = [c for c in contours if cv2.contourArea(c) > 100]\n",
    "    cv2.drawContours(copy, contours, -1, (0, 255, 0), 2)\n",
    "    mask = np.zeros_like(mask)\n",
    "    cv2.drawContours(mask, contours, -1, 255, -1)\n",
    "\n",
    "\n",
    "    # for y in range(cv2image.shape[0]):\n",
    "    #     start = None\n",
    "    #     end = None\n",
    "    #     for x in range(cv2image.shape[1]):\n",
    "    #         if mask[y, x] > 0:\n",
    "    #             if start is None:\n",
    "    #                 start = x\n",
    "    #             else:\n",
    "    #                 end = x\n",
    "    #     if start is None or end is None:\n",
    "    #         continue\n",
    "    #     for x in range(cv2image.shape[1]):\n",
    "    #         if x > start and x < end:\n",
    "    #             mask[y, x] = 255\n",
    "    res = cv2.bitwise_and(cv2image,cv2image, mask=mask)\n",
    "    masked_image_path = \"../segDiffBg/\" + \"/\".join(image.split(\"/\")[2:])\n",
    "\n",
    "    cv2.imwrite(masked_image_path, res)\n",
    "    print(f\"Saved {masked_image_path}\")"
   ]
  }
 ],
 "metadata": {
  "kernelspec": {
   "display_name": "Python 3",
   "language": "python",
   "name": "python3"
  },
  "language_info": {
   "codemirror_mode": {
    "name": "ipython",
    "version": 3
   },
   "file_extension": ".py",
   "mimetype": "text/x-python",
   "name": "python",
   "nbconvert_exporter": "python",
   "pygments_lexer": "ipython3",
   "version": "3.11.8"
  }
 },
 "nbformat": 4,
 "nbformat_minor": 2
}
